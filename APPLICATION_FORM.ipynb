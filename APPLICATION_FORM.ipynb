{
 "cells": [
  {
   "cell_type": "code",
   "execution_count": 2,
   "metadata": {
    "id": "auOJUF-pkb-x"
   },
   "outputs": [
    {
     "name": "stdout",
     "output_type": "stream",
     "text": [
      "Thank you for your responese...... 😀\n"
     ]
    }
   ],
   "source": [
    "from tkinter import *\n",
    "\n",
    "root = Tk()\n",
    "\n",
    "def getvals():\n",
    "    print(\"Thank you for your responese......\",(\"\\U0001f600\"))\n",
    "root.geometry(\"600x300\")\n",
    "#Heading\n",
    "Label(root, text=\"Welcome to our college\", font=\"comicsansms 13 bold\",bg='BLACK',fg='RED', pady=15).grid(row=0, column=3)\n",
    "\n",
    "#Text for our form\n",
    "name = Label(root, text=\"Name\")\n",
    "phone = Label(root, text=\"Phone\")\n",
    "gender = Label(root, text=\"Gender\")\n",
    "email = Label(root, text=\"Email_id\")\n",
    "paymentmode = Label(root, text=\"Payment Mode\")\n",
    "\n",
    "#Pack text for our form\n",
    "name.grid(row=1, column=2)\n",
    "phone.grid(row=2, column=2)\n",
    "gender.grid(row=3, column=2)\n",
    "email.grid(row=4, column=2)\n",
    "paymentmode.grid(row=5, column=2)\n",
    "\n",
    "# Tkinter variable for storing entries\n",
    "namevalue = StringVar()\n",
    "phonevalue = StringVar()\n",
    "gendervalue = StringVar()\n",
    "emergencyvalue = StringVar()\n",
    "paymentmodevalue = StringVar()\n",
    "#var=Intvar()\n",
    "#foodservicevalue = IntVar()\n",
    "\n",
    "\n",
    "#Entries for our form\n",
    "nameentry = Entry(root, textvariable=namevalue)\n",
    "phoneentry = Entry(root, textvariable=phonevalue)\n",
    "genderentry = Entry(root, textvariable=gendervalue)\n",
    "emailentry = Entry(root, textvariable=emergencyvalue)\n",
    "paymentmodeentry = Entry(root, textvariable=paymentmodevalue)\n",
    "\n",
    "# Packing the Entries\n",
    "nameentry.grid(row=1, column=3)\n",
    "phoneentry.grid(row=2, column=3)\n",
    "genderentry.grid(row=3, column=3)\n",
    "emailentry.grid(row=4, column=3)\n",
    "paymentmodeentry.grid(row=5, column=3)\n",
    "\n",
    "#Checkbox & Packing it\n",
    "var = Checkbutton(text=\"Using installment?\", variable = paymentmodevalue)\n",
    "var.grid(row=6, column=3)\n",
    "\n",
    "#Button & packing it and assigning it a command\n",
    "Button(text=\"Sumbit details\", command=getvals).grid(row=7, column=3)\n",
    "\n",
    "\n",
    "\n",
    "root.mainloop()"
   ]
  },
  {
   "cell_type": "code",
   "execution_count": null,
   "metadata": {},
   "outputs": [],
   "source": []
  }
 ],
 "metadata": {
  "colab": {
   "name": "Checkbutton.ipynb",
   "provenance": []
  },
  "kernelspec": {
   "display_name": "Python 3 (ipykernel)",
   "language": "python",
   "name": "python3"
  },
  "language_info": {
   "codemirror_mode": {
    "name": "ipython",
    "version": 3
   },
   "file_extension": ".py",
   "mimetype": "text/x-python",
   "name": "python",
   "nbconvert_exporter": "python",
   "pygments_lexer": "ipython3",
   "version": "3.9.7"
  }
 },
 "nbformat": 4,
 "nbformat_minor": 1
}
