{
 "cells": [
  {
   "cell_type": "code",
   "execution_count": 1,
   "id": "06260206",
   "metadata": {},
   "outputs": [],
   "source": [
    "from tkinter import*"
   ]
  },
  {
   "cell_type": "code",
   "execution_count": 2,
   "id": "14dc49a1",
   "metadata": {},
   "outputs": [],
   "source": [
    "var=Tk()\n",
    "var.geometry('1000x800')#values for primary window\n",
    "var.minsize(480,480)#min size\n",
    "var.maxsize(360,360)#max size\n",
    "var.mainloop()"
   ]
  },
  {
   "cell_type": "code",
   "execution_count": 3,
   "id": "6df3aa18",
   "metadata": {},
   "outputs": [],
   "source": [
    "var1=Tk()\n",
    "var1.geometry('1000x800')\n",
    "var1.minsize(480,480)\n",
    "var1.maxsize(360,360)\n",
    "var1=Label(text='Suraj B. Godambe')#taking label\n",
    "var1.pack()#packing\n",
    "var1.mainloop()"
   ]
  },
  {
   "cell_type": "code",
   "execution_count": 4,
   "id": "44d83733",
   "metadata": {},
   "outputs": [],
   "source": [
    "var2=Tk()\n",
    "var2.geometry('1000x800')\n",
    "var2.minsize(480,480)\n",
    "var2.maxsize(360,360)\n",
    "var3=Frame(var2,bg='Red',borderwidth=10,relief='raised')\n",
    "var3.pack(side=RIGHT)#fixing position \n",
    "var2=Label(var3,text='Suraj B. Godambe')#taking label\n",
    "var2.pack()#packing\n",
    "var2.mainloop()"
   ]
  },
  {
   "cell_type": "code",
   "execution_count": 5,
   "id": "544e9216",
   "metadata": {},
   "outputs": [],
   "source": [
    "var2=Tk()\n",
    "var2.geometry('1000x800')\n",
    "var2.minsize(480,480)\n",
    "var2.maxsize(360,360)\n",
    "var3=Frame(var2,bg='Red',borderwidth=10,relief='ridge')\n",
    "var3.pack(side=LEFT,anchor='nw')\n",
    "var2=Label(var3,text='Suraj B. Godambe')#taking label\n",
    "var2.pack()#packing\n",
    "var2.mainloop()"
   ]
  },
  {
   "cell_type": "code",
   "execution_count": 6,
   "id": "2378f23c",
   "metadata": {},
   "outputs": [],
   "source": [
    "var2=Tk()\n",
    "var2.geometry('1000x800')\n",
    "var2.minsize(480,480)\n",
    "var2.maxsize(360,360)\n",
    "var3=Frame(var2,bg='Red',borderwidth=10,relief='sunken')\n",
    "var3.pack()\n",
    "var2=Label(var3,text='Suraj B. Godambe')#taking label\n",
    "var2.pack()#packing\n",
    "var2.mainloop()"
   ]
  },
  {
   "cell_type": "code",
   "execution_count": 7,
   "id": "d6b12bc1",
   "metadata": {},
   "outputs": [],
   "source": [
    "var2=Tk()\n",
    "var2.geometry('1000x800')\n",
    "var2.minsize(480,480)\n",
    "var2.maxsize(360,360)\n",
    "var3=Frame(var2,bg='Red',borderwidth=10,relief='groove')\n",
    "var3.pack()\n",
    "var2=Label(var3,text='Suraj B. Godambe')#taking label\n",
    "var2.pack()#packing\n",
    "var2.mainloop()"
   ]
  },
  {
   "cell_type": "code",
   "execution_count": 12,
   "id": "bdf64cfd",
   "metadata": {},
   "outputs": [],
   "source": [
    "sbg=Tk()\n",
    "sbg.geometry('600x300')\n",
    "sbg.minsize(200,200)#fixes window minimum size \n",
    "sbg.maxsize(700,400)#fixes window maximum size \n",
    "f1=Frame(sbg,bg='yellow',borderwidth=8,relief='groove') \n",
    "f1.pack(side=TOP, fill = 'x') \n",
    "lab=Label(f1,text=\"Saanve\")\n",
    "lab.pack()\n",
    "f2=Frame(sbg,bg='Grey',borderwidth=8,relief='raised')\n",
    "f2.pack(side=BOTTOM) \n",
    "lab1=Label(f2,text=\"Hrishikesh\") \n",
    "lab1.pack() \n",
    "f3=Frame(sbg,bg='Red',borderwidth=8,relief='groove')\n",
    "f3.pack(side=LEFT, fill = 'y') \n",
    "lab2=Label(f3,text=\"Suraj\")\n",
    "lab2.pack()\n",
    "f4=Frame(sbg,bg='Grey',borderwidth=8,relief='groove')\n",
    "f4.pack(side=RIGHT)\n",
    "lab3=Label(f4,text=\"Pratham\")\n",
    "lab3.pack() \n",
    "sbg.mainloop()"
   ]
  },
  {
   "cell_type": "code",
   "execution_count": null,
   "id": "19c13720",
   "metadata": {},
   "outputs": [],
   "source": []
  }
 ],
 "metadata": {
  "kernelspec": {
   "display_name": "Python 3 (ipykernel)",
   "language": "python",
   "name": "python3"
  },
  "language_info": {
   "codemirror_mode": {
    "name": "ipython",
    "version": 3
   },
   "file_extension": ".py",
   "mimetype": "text/x-python",
   "name": "python",
   "nbconvert_exporter": "python",
   "pygments_lexer": "ipython3",
   "version": "3.9.7"
  }
 },
 "nbformat": 4,
 "nbformat_minor": 5
}
